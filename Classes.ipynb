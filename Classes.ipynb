{
  "nbformat": 4,
  "nbformat_minor": 0,
  "metadata": {
    "colab": {
      "provenance": [],
      "authorship_tag": "ABX9TyM4DixVqGyQOdm2OH468ye7",
      "include_colab_link": true
    },
    "kernelspec": {
      "name": "python3",
      "display_name": "Python 3"
    },
    "language_info": {
      "name": "python"
    }
  },
  "cells": [
    {
      "cell_type": "markdown",
      "metadata": {
        "id": "view-in-github",
        "colab_type": "text"
      },
      "source": [
        "<a href=\"https://colab.research.google.com/github/Manoharnath/Classes/blob/main/Classes.ipynb\" target=\"_parent\"><img src=\"https://colab.research.google.com/assets/colab-badge.svg\" alt=\"Open In Colab\"/></a>"
      ]
    },
    {
      "cell_type": "code",
      "execution_count": 2,
      "metadata": {
        "colab": {
          "base_uri": "https://localhost:8080/"
        },
        "id": "AB5T7tDiJdrN",
        "outputId": "14cb02de-a55e-41d1-b2b2-6a05774909b3"
      },
      "outputs": [
        {
          "output_type": "stream",
          "name": "stdout",
          "text": [
            "Sum of square value :  35\n"
          ]
        }
      ],
      "source": [
        " class Point:\n",
        "    def __init__(self,x,y,z):\n",
        "        self.x = x\n",
        "        self.y = y\n",
        "        self.z = z\n",
        "    def sqSum(self):\n",
        "        return self.x**2 + self.y**2 + self.z**2\n",
        "value = Point(1,3,5)\n",
        "finalValue = value.sqSum()\n",
        "print(\"Sum of square value : \", finalValue)"
      ]
    },
    {
      "cell_type": "code",
      "source": [
        "class Calculator:\n",
        "\n",
        "    def __init__(self,x,y):\n",
        "\n",
        "        self.x = x\n",
        "\n",
        "        self.y = y\n",
        "\n",
        "    def add(self):\n",
        "\n",
        "        return self.y+self.x\n",
        "\n",
        "    def subtract(self):\n",
        "\n",
        "        return self.y-self.x\n",
        "\n",
        "    def multiply(self):\n",
        "\n",
        "        return self.y*self.x\n",
        "\n",
        "    def divide(self):\n",
        "\n",
        "        return self.y/self.x\n",
        "\n",
        "obj = Calculator(10,94)\n",
        "\n",
        "print(obj.add())\n",
        "\n",
        "print(obj.subtract())\n",
        "\n",
        "print(obj.multiply())\n",
        "\n",
        "print(obj.divide())\n"
      ],
      "metadata": {
        "colab": {
          "base_uri": "https://localhost:8080/"
        },
        "id": "4YQA0nBaRsn6",
        "outputId": "35e1e9a4-32c2-4af0-bc45-825eacfa9897"
      },
      "execution_count": 4,
      "outputs": [
        {
          "output_type": "stream",
          "name": "stdout",
          "text": [
            "104\n",
            "84\n",
            "940\n",
            "9.4\n"
          ]
        }
      ]
    },
    {
      "cell_type": "code",
      "source": [
        "class Student:\n",
        "    def __init__(self,name=None,roll_num=None):\n",
        "        self.__student_name=name\n",
        "        self.__roll_number=roll_num\n",
        "    def setName(self,name):\n",
        "        self.__student_name=name\n",
        "    def getName(self):\n",
        "        return(self.__student_name)\n",
        "    def setRollNumber(self,roll_num):\n",
        "        self.__roll_number=roll_num\n",
        "    def getRollNumber(self):\n",
        "        return(self.__roll_number)\n",
        "\n",
        "s1=Student()\n",
        "print(s1.getName())\n",
        "s1.setName(\"Manoharnath\")\n",
        "print(s1.getName())\n",
        "print(s1.getRollNumber())\n",
        "s1.setRollNumber(5227)\n",
        "print(s1.getRollNumber())"
      ],
      "metadata": {
        "colab": {
          "base_uri": "https://localhost:8080/"
        },
        "id": "nCpNFNkPSEUf",
        "outputId": "5a1f0c3a-f19e-45c2-f34f-f3079a295d6b"
      },
      "execution_count": 6,
      "outputs": [
        {
          "output_type": "stream",
          "name": "stdout",
          "text": [
            "None\n",
            "Manoharnath\n",
            "None\n",
            "5227\n"
          ]
        }
      ]
    },
    {
      "cell_type": "code",
      "source": [
        "class Account:\n",
        "\n",
        "    def __init__(self,title=None,Balance=0):\n",
        "        self.title=title\n",
        "        self.Balance=Balance\n",
        "\n",
        "class SavingsAccount(Account):\n",
        "\n",
        "    def __init__(self,title=None,Balance=0,interestRate=0):\n",
        "        super().__init__(title,Balance)\n",
        "        self.interestRate=interestRate\n",
        "\n",
        "obj1=Account(\"Ashish\",5000)\n",
        "obj2=SavingsAccount(\"Ashish\",5000,5)\n",
        "print(obj2.title)\n",
        "print(obj2.Balance)\n",
        "print(obj2.interestRate)"
      ],
      "metadata": {
        "colab": {
          "base_uri": "https://localhost:8080/"
        },
        "id": "-ZdLOJfNSQ6i",
        "outputId": "a1926e7e-b8b4-46eb-ca53-09020fa409a2"
      },
      "execution_count": 8,
      "outputs": [
        {
          "output_type": "stream",
          "name": "stdout",
          "text": [
            "Ashish\n",
            "5000\n",
            "5\n"
          ]
        }
      ]
    },
    {
      "cell_type": "code",
      "source": [
        "class Account:\n",
        "    def __init__(self, title=None, balance=0):\n",
        "        self.title = title\n",
        "        self.balance = balance\n",
        "    def withdrawal(self, amount):\n",
        "        self.balance-=amount\n",
        "\n",
        "    def deposit(self, amount):\n",
        "        self.balance+=amount\n",
        "    def getBalance(self):\n",
        "        return self.balance\n",
        "class SavingsAccount(Account):\n",
        "    def __init__(self, title=None, balance=0, interestRate=0):\n",
        "            super().__init__(title, balance)\n",
        "            self.interestRate = interestRate\n",
        "    def interestAmount(self):\n",
        "        return(self.interestRate*self.getBalance())/100\n",
        "\n",
        "obj1 = SavingsAccount(\"Ashish\", 2000, 5)\n",
        "print(f\"Account holder Name:{obj1.title}\")\n",
        "print(f\"Account Balance: {obj1.getBalance()}\")\n",
        "obj1.deposit(500)\n",
        "print(f\"Account Balance after deposit: {obj1.getBalance()}\")\n",
        "obj1.withdrawal(100)\n",
        "print(f\"Account Balance after withdrawal: {obj1.getBalance()}\")\n",
        "print(f\"Interest for the balance amount:{obj1.interestAmount()}\")"
      ],
      "metadata": {
        "colab": {
          "base_uri": "https://localhost:8080/"
        },
        "id": "LPtXgQhnSe9w",
        "outputId": "4fc648c7-0a92-4660-b94e-a8c2fb887168"
      },
      "execution_count": 9,
      "outputs": [
        {
          "output_type": "stream",
          "name": "stdout",
          "text": [
            "Account holder Name:Ashish\n",
            "Account Balance: 2000\n",
            "Account Balance after deposit: 2500\n",
            "Account Balance after withdrawal: 2400\n",
            "Interest for the balance amount:120.0\n"
          ]
        }
      ]
    }
  ]
}